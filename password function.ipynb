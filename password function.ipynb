{
 "cells": [
  {
   "cell_type": "markdown",
   "metadata": {},
   "source": [
    "### Create a function password with the following conditions"
   ]
  },
  {
   "cell_type": "markdown",
   "metadata": {},
   "source": [
    "Conditions:\n",
    "1. It should contain greater than or equal to 8 characters and less than 14 characters.\n",
    "2. It should contain at least 2 capital letters.\n",
    "3. it should contain at least 3 small letters.\n",
    "4. it should contain at least 2 number\n",
    "5. it should contain any one of these special characters #@$"
   ]
  },
  {
   "cell_type": "code",
   "execution_count": 38,
   "metadata": {},
   "outputs": [],
   "source": [
    "# Upper function\n",
    "# To check atleast 2 upper case letters in pwd\n",
    "\n",
    "def upper_validator(l):\n",
    "\n",
    "    upper = 2\n",
    "    upper_con = 0\n",
    "    for i in l:\n",
    "        \n",
    "        if i.isupper() == True :  # isupper() is a method function to check any uppercase chr in a string\n",
    "            upper_con += 1        # Increments to 1 if statement is True. \n",
    "\n",
    "    if upper_con >= upper:        # Condition satisfies\n",
    "        return True\n",
    "\n",
    "    else:\n",
    "        return False\n",
    "    \n",
    "    \n",
    "# Lower function to be\n",
    "# To check atleast 3 upper case letters in pwd\n",
    "\n",
    "def lower_validator(l):\n",
    "    \n",
    "    lower = 3\n",
    "    lower_con = 0\n",
    "    for i in l:\n",
    "        \n",
    "        if i.islower() == True :  # islower() is a method function to check any uppercase chr in a string.\n",
    "            lower_con += 1        # Increments to 1 if statement is True.\n",
    "\n",
    "    if lower_con >= lower:        # Condition satisfies\n",
    "        return True\n",
    "\n",
    "    else:\n",
    "        return False\n",
    "    \n",
    "    \n",
    "# Digits function\n",
    "# To check atleast 3 upper case letters in pwd\n",
    "\n",
    "def digit_validator(l):\n",
    "\n",
    "    digit = 2\n",
    "    digit_con = 0\n",
    "    for i in l:\n",
    "        \n",
    "        if i.isdigit() == True :  # islower() is a method function to check any uppercase chr in a string.\n",
    "            digit_con += 1        # Increments when loop executes succesfully\n",
    "\n",
    "    if digit_con >= digit:        # Condition matches\n",
    "        return True\n",
    "\n",
    "    else:\n",
    "        return False\n",
    "    \n",
    "    \n",
    "# Special Character function\n",
    "\n",
    "def splchr_validator(l):\n",
    "    \n",
    "    splch = [\"#\", \"@\", \"$\"]                 # Condition: Provided spl chr\n",
    "    \n",
    "    if [\"Valid\" for x in l if x in splch]:  # List comphrension method used to out\n",
    "        return True\n",
    "\n",
    "    else:\n",
    "        return False"
   ]
  },
  {
   "cell_type": "code",
   "execution_count": 39,
   "metadata": {},
   "outputs": [],
   "source": [
    "# Length function\n",
    "# To chechk whether length is valid or not\n",
    "\n",
    "def password_validator():\n",
    "    \n",
    "    pwd = input(\"Enter your password: \")  # Input from user end\n",
    "    \n",
    "    if len(pwd) >= 8 and len(pwd) < 14:   # Validating first condition pwd length.\n",
    "        \n",
    "        if upper_validator(pwd) == True and lower_validator(pwd) == True and digit_validator(pwd) == True and splchr_validator(pwd) == True:\n",
    "            \n",
    "            print(\"Valid password\")\n",
    "        \n",
    "        else:\n",
    "            \n",
    "            print(\"Invalid password\")"
   ]
  },
  {
   "cell_type": "code",
   "execution_count": 40,
   "metadata": {},
   "outputs": [
    {
     "name": "stdout",
     "output_type": "stream",
     "text": [
      "Enter your password: starmovies\n",
      "Invalid password\n"
     ]
    }
   ],
   "source": [
    "password_validator()"
   ]
  },
  {
   "cell_type": "code",
   "execution_count": 41,
   "metadata": {},
   "outputs": [
    {
     "name": "stdout",
     "output_type": "stream",
     "text": [
      "Enter your password: abc@86XYZ\n",
      "Valid password\n"
     ]
    }
   ],
   "source": [
    "password_validator()"
   ]
  },
  {
   "cell_type": "code",
   "execution_count": 42,
   "metadata": {},
   "outputs": [
    {
     "name": "stdout",
     "output_type": "stream",
     "text": [
      "Enter your password: STabc85dijuf\n",
      "Invalid password\n"
     ]
    }
   ],
   "source": [
    "password_validator()"
   ]
  },
  {
   "cell_type": "code",
   "execution_count": 43,
   "metadata": {},
   "outputs": [
    {
     "name": "stdout",
     "output_type": "stream",
     "text": [
      "Enter your password: S@Turd45\n",
      "Valid password\n"
     ]
    }
   ],
   "source": [
    "password_validator()"
   ]
  },
  {
   "cell_type": "code",
   "execution_count": null,
   "metadata": {},
   "outputs": [],
   "source": []
  }
 ],
 "metadata": {
  "kernelspec": {
   "display_name": "Python 3",
   "language": "python",
   "name": "python3"
  },
  "language_info": {
   "codemirror_mode": {
    "name": "ipython",
    "version": 3
   },
   "file_extension": ".py",
   "mimetype": "text/x-python",
   "name": "python",
   "nbconvert_exporter": "python",
   "pygments_lexer": "ipython3",
   "version": "3.6.10"
  }
 },
 "nbformat": 4,
 "nbformat_minor": 4
}
